{
 "cells": [
  {
   "cell_type": "markdown",
   "metadata": {},
   "source": [
    "# Polynomial Regression"
   ]
  },
  {
   "cell_type": "markdown",
   "metadata": {},
   "source": [
    "### Implementation from scratch"
   ]
  },
  {
   "cell_type": "code",
   "execution_count": 1,
   "metadata": {},
   "outputs": [],
   "source": [
    "import numpy as np\n",
    "import pandas as pd\n",
    "import matplotlib.pyplot as plt\n",
    "np.set_printoptions(precision=4)"
   ]
  },
  {
   "cell_type": "code",
   "execution_count": 2,
   "metadata": {},
   "outputs": [
    {
     "data": {
      "text/html": [
       "<div>\n",
       "<style scoped>\n",
       "    .dataframe tbody tr th:only-of-type {\n",
       "        vertical-align: middle;\n",
       "    }\n",
       "\n",
       "    .dataframe tbody tr th {\n",
       "        vertical-align: top;\n",
       "    }\n",
       "\n",
       "    .dataframe thead th {\n",
       "        text-align: right;\n",
       "    }\n",
       "</style>\n",
       "<table border=\"1\" class=\"dataframe\">\n",
       "  <thead>\n",
       "    <tr style=\"text-align: right;\">\n",
       "      <th></th>\n",
       "      <th>watch hours</th>\n",
       "      <th>Earning</th>\n",
       "    </tr>\n",
       "  </thead>\n",
       "  <tbody>\n",
       "    <tr>\n",
       "      <th>0</th>\n",
       "      <td>17104</td>\n",
       "      <td>2.149453e+05</td>\n",
       "    </tr>\n",
       "    <tr>\n",
       "      <th>1</th>\n",
       "      <td>24387</td>\n",
       "      <td>4.172079e+05</td>\n",
       "    </tr>\n",
       "    <tr>\n",
       "      <th>2</th>\n",
       "      <td>42659</td>\n",
       "      <td>1.378506e+06</td>\n",
       "    </tr>\n",
       "    <tr>\n",
       "      <th>3</th>\n",
       "      <td>10002</td>\n",
       "      <td>6.438296e+04</td>\n",
       "    </tr>\n",
       "    <tr>\n",
       "      <th>4</th>\n",
       "      <td>81500</td>\n",
       "      <td>4.668859e+06</td>\n",
       "    </tr>\n",
       "    <tr>\n",
       "      <th>5</th>\n",
       "      <td>57934</td>\n",
       "      <td>2.358270e+06</td>\n",
       "    </tr>\n",
       "    <tr>\n",
       "      <th>6</th>\n",
       "      <td>65655</td>\n",
       "      <td>3.796217e+06</td>\n",
       "    </tr>\n",
       "    <tr>\n",
       "      <th>7</th>\n",
       "      <td>79237</td>\n",
       "      <td>4.413135e+06</td>\n",
       "    </tr>\n",
       "    <tr>\n",
       "      <th>8</th>\n",
       "      <td>12771</td>\n",
       "      <td>1.037248e+05</td>\n",
       "    </tr>\n",
       "    <tr>\n",
       "      <th>9</th>\n",
       "      <td>28154</td>\n",
       "      <td>5.263630e+05</td>\n",
       "    </tr>\n",
       "  </tbody>\n",
       "</table>\n",
       "</div>"
      ],
      "text/plain": [
       "   watch hours       Earning\n",
       "0        17104  2.149453e+05\n",
       "1        24387  4.172079e+05\n",
       "2        42659  1.378506e+06\n",
       "3        10002  6.438296e+04\n",
       "4        81500  4.668859e+06\n",
       "5        57934  2.358270e+06\n",
       "6        65655  3.796217e+06\n",
       "7        79237  4.413135e+06\n",
       "8        12771  1.037248e+05\n",
       "9        28154  5.263630e+05"
      ]
     },
     "execution_count": 2,
     "metadata": {},
     "output_type": "execute_result"
    }
   ],
   "source": [
    "dataset= pd.read_excel('Youtube Income data.xlsx')\n",
    "dataset.head(10)"
   ]
  },
  {
   "cell_type": "code",
   "execution_count": 3,
   "metadata": {},
   "outputs": [
    {
     "data": {
      "text/plain": [
       "<matplotlib.axes._subplots.AxesSubplot at 0x159ed008080>"
      ]
     },
     "execution_count": 3,
     "metadata": {},
     "output_type": "execute_result"
    },
    {
     "data": {
      "image/png": "[encoded data removed]",
      "text/plain": [
       "<Figure size 432x288 with 1 Axes>"
      ]
     },
     "metadata": {
      "needs_background": "light"
     },
     "output_type": "display_data"
    }
   ],
   "source": [
    "dataset.plot(x='watch hours',y='Earning',kind='scatter',color='orange',\n",
    "            title='Youtube watch hours vs Earnings',label='Earnings')"
   ]
  },
  {
   "cell_type": "code",
   "execution_count": 4,
   "metadata": {},
   "outputs": [
    {
     "data": {
      "text/plain": [
       "watch hours    0\n",
       "Earning        0\n",
       "dtype: int64"
      ]
     },
     "execution_count": 4,
     "metadata": {},
     "output_type": "execute_result"
    }
   ],
   "source": [
    "dataset.isnull().sum(axis=0)"
   ]
  },
  {
   "cell_type": "code",
   "execution_count": 40,
   "metadata": {},
   "outputs": [],
   "source": [
    "independent_var=dataset.iloc[:,0].values\n",
    "dependent_var=dataset.iloc[:,1].values"
   ]
  },
  {
   "cell_type": "code",
   "execution_count": 41,
   "metadata": {},
   "outputs": [],
   "source": [
    "class Scaler:\n",
    "    def __init__(self):\n",
    "        self.min=None\n",
    "        self.max=None\n",
    "    def scale(self,data):\n",
    "        if self.min is None and self.max is None:\n",
    "            self.min=data.min(axis=0)\n",
    "            self.max=data.max(axis=0)\n",
    "        return (data-self.min) / (self.max-self.min)\n",
    "\n",
    "    def reverse_scaling(self,data):\n",
    "        return (data*(self.max-self.min))+self.min"
   ]
  },
  {
   "cell_type": "code",
   "execution_count": 42,
   "metadata": {},
   "outputs": [],
   "source": [
    "xscaler=Scaler();yscaler=Scaler();\n",
    "x=xscaler.scale(independent_var);y=yscaler.scale(dependent_var)"
   ]
  },
  {
   "cell_type": "code",
   "execution_count": 43,
   "metadata": {},
   "outputs": [],
   "source": [
    "def splitter(x,y,train_size=0.75,seed=None):\n",
    "    np.random.seed(seed)\n",
    "    data=np.concatenate([x.reshape(-1,1),y.reshape(-1,1)],axis=1)\n",
    "    np.random.shuffle(data)\n",
    "    xtrain=data[:int(len(data)*train_size),:-1]\n",
    "    ytrain=data[:int(len(data)*train_size),-1]\n",
    "    xtest=data[int(len(data)*train_size):,:-1]\n",
    "    ytest=data[int(len(data)*train_size):,-1]\n",
    "    return xtrain,ytrain,xtest,ytest"
   ]
  },
  {
   "cell_type": "code",
   "execution_count": 44,
   "metadata": {},
   "outputs": [],
   "source": [
    "xtrain,ytrain,xtest,ytest=splitter(x,y,train_size=0.85,seed=101)"
   ]
  },
  {
   "cell_type": "code",
   "execution_count": 45,
   "metadata": {},
   "outputs": [],
   "source": [
    "def transform_degree(data,degree=2):\n",
    "    if data.shape[1] is 1:\n",
    "        return np.append(data,data**degree,axis=1)"
   ]
  },
  {
   "cell_type": "code",
   "execution_count": 46,
   "metadata": {},
   "outputs": [],
   "source": [
    "def matrix_method(x,y):\n",
    "    ones=np.ones(shape=len(x)).reshape(-1,1)\n",
    "    x_=np.empty(shape=(len(x),len(x[0])+1))\n",
    "    x_[:,0]=ones.flatten()\n",
    "    x_[:,1:]=x.copy()\n",
    "    x_t=x_.T\n",
    "    y_=y.reshape(-1,1).copy()\n",
    "    covar_x=np.dot(x_t,x_)\n",
    "    covar_xy=np.dot(x_t,y_)\n",
    "    b=(np.linalg.inv(covar_x))@covar_xy\n",
    "    return b"
   ]
  },
  {
   "cell_type": "code",
   "execution_count": 54,
   "metadata": {},
   "outputs": [],
   "source": [
    "def predict(x,coeff):\n",
    "    x_1=np.concatenate([np.ones(shape=(len(x),1)),x],axis=1)\n",
    "    return (x_1@coeff).flatten()\n",
    "\n",
    "def make_predictions_from_user():\n",
    "    x=float(input(\"Enter the value for Watch Hour : \"))\n",
    "    x=np.array(x).reshape(-1,1)\n",
    "    print(\"\"\"!!! MAKING PREDICTIONS!!!\"\"\")\n",
    "    print(\"The predicted Earnings for given watch hour {}  is : {} \"\n",
    "          .format(x,yscaler.reverse_scaling(predict(transform_degree(xscaler.scale(x)),coeff))))"
   ]
  },
  {
   "cell_type": "code",
   "execution_count": 48,
   "metadata": {},
   "outputs": [
    {
     "name": "stdout",
     "output_type": "stream",
     "text": [
      "Weights :  [0.0841 0.9191]\n",
      "Bias :  -0.007421545436773869\n"
     ]
    }
   ],
   "source": [
    "coeff=matrix_method(transform_degree(xtrain,degree=2),ytrain)\n",
    "print(\"Weights : \",coeff.flatten()[1:])\n",
    "print(\"Bias : \",coeff.flatten()[0])"
   ]
  },
  {
   "cell_type": "code",
   "execution_count": 49,
   "metadata": {},
   "outputs": [
    {
     "name": "stdout",
     "output_type": "stream",
     "text": [
      "Predictions : [5605367.9811 4439132.8292 6808543.7004 3317371.5558  267097.6063\n",
      "  254423.6539 4462997.7162 1418176.4253 1639357.2669 4293502.7493\n",
      " 6184059.6232 5041741.564  4201929.9355 6866197.605  1425211.4365\n",
      " 2413545.2533 3904974.3881 1436173.8422 3385928.6689 5779647.2423\n",
      " 3872299.6412 3792872.7714 4210127.4171   90193.9365 2408438.5154\n",
      "  -14717.6313 1564010.7836  634313.6719 6155504.4556 6308034.1057]\n"
     ]
    }
   ],
   "source": [
    "ypred=yscaler.reverse_scaling(predict(transform_degree(xtest,degree=2),coeff)).flatten()\n",
    "ytrue=yscaler.reverse_scaling(ytest).flatten()\n",
    "print(\"Predictions :\",ypred)"
   ]
  },
  {
   "cell_type": "code",
   "execution_count": 50,
   "metadata": {},
   "outputs": [],
   "source": [
    "def mse(true,pred):\n",
    "    return np.mean((pred-true)**2)\n",
    "\n",
    "def rmse(true,pred):\n",
    "    return mse(true,pred)**0.5\n",
    "\n",
    "def mae(true,pred):\n",
    "    return np.mean(abs(pred-true))\n",
    "\n",
    "def r_squared(true,pred):\n",
    "    true_mean=true.mean()\n",
    "    pred_mean=pred.mean()\n",
    "    tot=((true-true_mean)**2).sum(axis=0)\n",
    "    obs=((true-pred)**2).sum(axis=0)\n",
    "    return 1-(obs/tot)"
   ]
  },
  {
   "cell_type": "code",
   "execution_count": 51,
   "metadata": {},
   "outputs": [
    {
     "name": "stdout",
     "output_type": "stream",
     "text": [
      "MSE : 83159828354.18741\n",
      "RMSE : 288374.45856765367\n",
      "MAE : 120937.39310542845\n",
      "R_squared : 0.982597782306786\n"
     ]
    }
   ],
   "source": [
    "poly_reg_srh_mse=mse(ytrue,ypred)\n",
    "print(\"MSE : {}\".format(poly_reg_srh_mse))\n",
    "poly_reg_srh_rmse=rmse(ytrue,ypred)\n",
    "print(\"RMSE : {}\".format(poly_reg_srh_rmse))\n",
    "poly_reg_srh_mae=mae(ytrue,ypred)\n",
    "print(\"MAE : {}\".format(poly_reg_srh_mae))\n",
    "poly_reg_srh_r2=r_squared(ytrue,ypred)\n",
    "print(\"R_squared : {}\".format(poly_reg_srh_r2))"
   ]
  },
  {
   "cell_type": "code",
   "execution_count": 52,
   "metadata": {},
   "outputs": [
    {
     "data": {
      "image/png": "[encoded data removed]",
      "text/plain": [
       "<Figure size 432x288 with 1 Axes>"
      ]
     },
     "metadata": {
      "needs_background": "light"
     },
     "output_type": "display_data"
    }
   ],
   "source": [
    "plt.scatter(xscaler.reverse_scaling(x),\n",
    "            yscaler.reverse_scaling(predict(transform_degree(x.reshape(-1,1),degree=2),coeff)).flatten(),\n",
    "          color='green',label='Predicted Earning')\n",
    "plt.title('YouTube Watch Hours vs Earnings(Implementation From Scratch)')\n",
    "plt.xlabel('Watch Hours')\n",
    "plt.ylabel('Earning')\n",
    "plt.legend()\n",
    "plt.show()"
   ]
  },
  {
   "cell_type": "code",
   "execution_count": 55,
   "metadata": {},
   "outputs": [
    {
     "name": "stdout",
     "output_type": "stream",
     "text": [
      "Enter the value for Watch Hour : 72231\n",
      "!!! MAKING PREDICTIONS!!!\n",
      "The predicted Earnings for given watch hour [[72231.]]  is : [3708649.177] \n"
     ]
    }
   ],
   "source": [
    "make_predictions_from_user()"
   ]
  },
  {
   "cell_type": "markdown",
   "metadata": {},
   "source": [
    "### Scikit Learn Implementation"
   ]
  },
  {
   "cell_type": "code",
   "execution_count": 19,
   "metadata": {},
   "outputs": [],
   "source": [
    "from sklearn.preprocessing import MinMaxScaler,PolynomialFeatures\n",
    "from sklearn.model_selection import train_test_split "
   ]
  },
  {
   "cell_type": "code",
   "execution_count": 20,
   "metadata": {},
   "outputs": [
    {
     "name": "stderr",
     "output_type": "stream",
     "text": [
      "c:\\anaconda3\\lib\\site-packages\\sklearn\\utils\\validation.py:595: DataConversionWarning: Data with input dtype int64 was converted to float64 by MinMaxScaler.\n",
      "  warnings.warn(msg, DataConversionWarning)\n"
     ]
    }
   ],
   "source": [
    "pf=PolynomialFeatures(degree=2,include_bias=False)\n",
    "xscaler=MinMaxScaler()\n",
    "yscaler=MinMaxScaler()\n",
    "x=xscaler.fit_transform(independent_var.reshape(-1,1))\n",
    "y=yscaler.fit_transform(dependent_var.reshape(-1,1))"
   ]
  },
  {
   "cell_type": "code",
   "execution_count": 21,
   "metadata": {},
   "outputs": [],
   "source": [
    "xtrain,xtest,ytrain,ytest=train_test_split(x,y,test_size=0.15)"
   ]
  },
  {
   "cell_type": "code",
   "execution_count": 22,
   "metadata": {},
   "outputs": [],
   "source": [
    "from sklearn.linear_model import LinearRegression"
   ]
  },
  {
   "cell_type": "code",
   "execution_count": 23,
   "metadata": {},
   "outputs": [
    {
     "data": {
      "text/plain": [
       "LinearRegression(copy_X=True, fit_intercept=True, n_jobs=None,\n",
       "         normalize=False)"
      ]
     },
     "execution_count": 23,
     "metadata": {},
     "output_type": "execute_result"
    }
   ],
   "source": [
    "poly_reg=LinearRegression()\n",
    "poly_reg.fit(pf.fit_transform(xtrain),ytrain)"
   ]
  },
  {
   "cell_type": "code",
   "execution_count": 24,
   "metadata": {},
   "outputs": [
    {
     "name": "stdout",
     "output_type": "stream",
     "text": [
      "Coefficients : [[0.0793 0.9276]]\n"
     ]
    }
   ],
   "source": [
    "print(\"Coefficients :\",poly_reg.coef_)"
   ]
  },
  {
   "cell_type": "code",
   "execution_count": 25,
   "metadata": {},
   "outputs": [
    {
     "name": "stdout",
     "output_type": "stream",
     "text": [
      "Bias :  [-0.0068]\n"
     ]
    }
   ],
   "source": [
    "print(\"Bias : \",poly_reg.intercept_)"
   ]
  },
  {
   "cell_type": "code",
   "execution_count": 26,
   "metadata": {},
   "outputs": [
    {
     "name": "stdout",
     "output_type": "stream",
     "text": [
      "Predictions from Test Set : [ 3.7192e+06  6.0834e+05  5.4676e+06  5.9789e+06  1.3466e+06  4.9385e+06\n",
      "  3.1621e+06  1.0733e+06  6.7735e+06  6.9626e+06  8.9739e+05  1.5381e+06\n",
      "  2.8387e+05  5.8640e+05  1.3928e+06  5.5668e+05  4.5822e+06  1.8553e+06\n",
      "  7.8492e+05  1.2748e+06  3.5402e+05  1.8031e+05  3.9166e+06 -6.3470e+03\n",
      "  2.7885e+05  3.7712e+06  4.3073e+06  1.0484e+05  6.8374e+06  4.0452e+06]\n"
     ]
    }
   ],
   "source": [
    "ypred=yscaler.inverse_transform(poly_reg.predict(pf.fit_transform(xtest))).flatten()\n",
    "ytrue=yscaler.inverse_transform(ytest.reshape(-1,1)).flatten()\n",
    "print(\"Predictions from Test Set :\",ypred)"
   ]
  },
  {
   "cell_type": "code",
   "execution_count": 27,
   "metadata": {},
   "outputs": [],
   "source": [
    "from sklearn.metrics import mean_squared_error,mean_absolute_error,r2_score"
   ]
  },
  {
   "cell_type": "code",
   "execution_count": 28,
   "metadata": {},
   "outputs": [
    {
     "name": "stdout",
     "output_type": "stream",
     "text": [
      "MSE : 7745530841.309606\n",
      "RMSE : 88008.69753217352\n",
      "MAE : 48406.70387431924\n",
      "R2 Score : 0.9985022205032619\n"
     ]
    }
   ],
   "source": [
    "poly_reg_sci_mse=mean_squared_error(ytrue,ypred)\n",
    "print(\"MSE : {}\".format(poly_reg_sci_mse))\n",
    "poly_reg_sci_rmse=poly_reg_sci_mse**0.5\n",
    "print(\"RMSE : {}\".format(poly_reg_sci_rmse))\n",
    "poly_reg_sci_mae=mean_absolute_error(ytrue,ypred)\n",
    "print(\"MAE : {}\".format(poly_reg_sci_mae))\n",
    "poly_reg_sci_r2=r2_score(ytrue,ypred)\n",
    "print(\"R2 Score : {}\".format(poly_reg_sci_r2))"
   ]
  },
  {
   "cell_type": "code",
   "execution_count": 29,
   "metadata": {},
   "outputs": [
    {
     "name": "stderr",
     "output_type": "stream",
     "text": [
      "c:\\anaconda3\\lib\\site-packages\\sklearn\\utils\\validation.py:595: DataConversionWarning: Data with input dtype int64 was converted to float64 by MinMaxScaler.\n",
      "  warnings.warn(msg, DataConversionWarning)\n"
     ]
    },
    {
     "data": {
      "image/png": "[encoded data removed]",
      "text/plain": [
       "<Figure size 432x288 with 1 Axes>"
      ]
     },
     "metadata": {
      "needs_background": "light"
     },
     "output_type": "display_data"
    }
   ],
   "source": [
    "plt.scatter(independent_var,\n",
    "            yscaler.inverse_transform(\n",
    "                poly_reg.predict(pf.fit_transform(xscaler.fit_transform(independent_var.reshape(-1,1))))).flatten(),\n",
    "            s=20,color='red',label='Predicted Earning')\n",
    "plt.title('YouTube Watch Hours vs Earnings(Scikit-learn Implementation)')\n",
    "plt.xlabel('Watch Hours')\n",
    "plt.ylabel('Earning')\n",
    "plt.legend()\n",
    "plt.show()"
   ]
  },
  {
   "cell_type": "code",
   "execution_count": 30,
   "metadata": {},
   "outputs": [
    {
     "name": "stdout",
     "output_type": "stream",
     "text": [
      "Predicted Earnings for watch hour of [[72231.]] is 3719245.512360765\n"
     ]
    }
   ],
   "source": [
    "print(\"Predicted Earnings for watch hour of {} is {}\"\n",
    "     .format(xscaler.inverse_transform(xtest[0].reshape(-1,1)),ypred[0]))"
   ]
  },
  {
   "cell_type": "markdown",
   "metadata": {},
   "source": [
    "### LINEAR REGRESSION"
   ]
  },
  {
   "cell_type": "code",
   "execution_count": 31,
   "metadata": {},
   "outputs": [
    {
     "data": {
      "text/plain": [
       "LinearRegression(copy_X=True, fit_intercept=True, n_jobs=None,\n",
       "         normalize=False)"
      ]
     },
     "execution_count": 31,
     "metadata": {},
     "output_type": "execute_result"
    }
   ],
   "source": [
    "lin_reg=LinearRegression()\n",
    "lin_reg.fit(xtrain,ytrain)"
   ]
  },
  {
   "cell_type": "code",
   "execution_count": 32,
   "metadata": {},
   "outputs": [
    {
     "name": "stdout",
     "output_type": "stream",
     "text": [
      "Weight :  [[1.0366]]\n"
     ]
    }
   ],
   "source": [
    "print(\"Weight : \",lin_reg.coef_)"
   ]
  },
  {
   "cell_type": "code",
   "execution_count": 33,
   "metadata": {},
   "outputs": [
    {
     "name": "stdout",
     "output_type": "stream",
     "text": [
      "Bias :  [-0.1782]\n"
     ]
    }
   ],
   "source": [
    "print(\"Bias : \",lin_reg.intercept_)"
   ]
  },
  {
   "cell_type": "code",
   "execution_count": 34,
   "metadata": {},
   "outputs": [
    {
     "name": "stdout",
     "output_type": "stream",
     "text": [
      "Predictions : [3976393.7732  769841.8106 5134914.6716 5437579.3609 1818784.836\n",
      " 4806622.8991 3552295.003  1473113.7772 5883475.88   5985689.6486\n",
      " 1228036.384  2041328.0699  111711.8037  731327.5448 1873794.6956\n",
      "  678085.0702 4575610.9452 2382212.4608 1059324.7531 1731593.8404\n",
      "  274163.9459 -162306.5196 4119036.4747 -900042.4947   99487.3905\n",
      " 4014318.9107 4391287.413  -402302.6808 5918160.8116 4210056.8047]\n"
     ]
    }
   ],
   "source": [
    "ypred=yscaler.inverse_transform(lin_reg.predict(xtest)).flatten()\n",
    "ytrue=yscaler.inverse_transform(ytest.reshape(-1,1)).flatten()\n",
    "print(\"Predictions :\",ypred)"
   ]
  },
  {
   "cell_type": "code",
   "execution_count": 35,
   "metadata": {},
   "outputs": [
    {
     "name": "stdout",
     "output_type": "stream",
     "text": [
      "MSE : 220658635178.78406\n",
      "RMSE : 469743.15873547754\n",
      "MAE : 383578.5187225302\n",
      "R2 Score : 0.9573304933747949\n"
     ]
    }
   ],
   "source": [
    "lin_reg_sci_mse=mean_squared_error(ytrue,ypred)\n",
    "print(\"MSE : {}\".format(lin_reg_sci_mse))\n",
    "lin_reg_sci_rmse=lin_reg_sci_mse**0.5\n",
    "print(\"RMSE : {}\".format(lin_reg_sci_rmse))\n",
    "lin_reg_sci_mae=mean_absolute_error(ytrue,ypred)\n",
    "print(\"MAE : {}\".format(lin_reg_sci_mae))\n",
    "lin_reg_sci_r2=r2_score(ytrue,ypred)\n",
    "print(\"R2 Score : {}\".format(lin_reg_sci_r2))"
   ]
  },
  {
   "cell_type": "code",
   "execution_count": 36,
   "metadata": {},
   "outputs": [
    {
     "name": "stderr",
     "output_type": "stream",
     "text": [
      "c:\\anaconda3\\lib\\site-packages\\sklearn\\utils\\validation.py:595: DataConversionWarning: Data with input dtype int64 was converted to float64 by MinMaxScaler.\n",
      "  warnings.warn(msg, DataConversionWarning)\n"
     ]
    },
    {
     "data": {
      "image/png": "[encoded data removed]",
      "text/plain": [
       "<Figure size 432x288 with 1 Axes>"
      ]
     },
     "metadata": {
      "needs_background": "light"
     },
     "output_type": "display_data"
    }
   ],
   "source": [
    "plt.scatter(independent_var,dependent_var,\n",
    "            s=20,color='pink',label='Actual Values')\n",
    "plt.plot(independent_var,\n",
    "         yscaler.inverse_transform(lin_reg.predict(xscaler.fit_transform(independent_var.reshape(-1,1)))),'--',\n",
    "        color='crimson',label='Fitted Linear Model')\n",
    "plt.title('YouTube Watch Hours vs Earnings(Scikit-learn Implementation)')\n",
    "plt.xlabel('Watch Hours')\n",
    "plt.ylabel('Earning')\n",
    "plt.legend()\n",
    "plt.show()"
   ]
  },
  {
   "cell_type": "code",
   "execution_count": 37,
   "metadata": {},
   "outputs": [
    {
     "name": "stdout",
     "output_type": "stream",
     "text": [
      "Predicted Earnings for watch hour of [[72231.]] is 3976393.773225333\n"
     ]
    }
   ],
   "source": [
    "print(\"Predicted Earnings for watch hour of {} is {}\"\n",
    "     .format(xscaler.inverse_transform(xtest[0].reshape(-1,1)),ypred[0]))"
   ]
  },
  {
   "cell_type": "markdown",
   "metadata": {},
   "source": [
    "### Compairision of metrics of models"
   ]
  },
  {
   "cell_type": "code",
   "execution_count": 38,
   "metadata": {},
   "outputs": [],
   "source": [
    "models=['poly_reg(scratch)','poly_reg(scikit)','Linreg']\n",
    "r2_score={'poly_reg(scratch)':poly_reg_srh_r2,'poly_reg(scikit)':poly_reg_sci_r2,'LinReg':lin_reg_sci_r2}\n",
    "rmse={'poly_reg(scratch)':poly_reg_srh_rmse,'poly_reg(scikit)':poly_reg_sci_rmse,'LinReg':lin_reg_sci_rmse}\n",
    "mse={'poly_reg(scratch)':poly_reg_srh_mse,'poly_reg(scikit)':poly_reg_sci_mse,'LinReg':lin_reg_sci_mse}\n",
    "mae={'poly_reg(scratch)':poly_reg_srh_mae,'poly_reg(scikit)':poly_reg_sci_mae,'LinReg':lin_reg_sci_mae}"
   ]
  },
  {
   "cell_type": "code",
   "execution_count": 39,
   "metadata": {},
   "outputs": [
    {
     "data": {
      "image/png": "[encoded data removed]",
      "text/plain": [
       "<Figure size 432x288 with 1 Axes>"
      ]
     },
     "metadata": {
      "needs_background": "light"
     },
     "output_type": "display_data"
    }
   ],
   "source": [
    "plt.scatter(models,r2_score.values(),label='R2_score')\n",
    "plt.scatter(models,rmse.values(),label='Relative RMSE')\n",
    "plt.scatter(models,mse.values(),label='Relative MSE')\n",
    "plt.scatter(models,mae.values(),label='Relative MAE')\n",
    "plt.legend()\n",
    "plt.tight_layout()\n",
    "plt.show()"
   ]
  },
  {
   "cell_type": "code",
   "execution_count": null,
   "metadata": {},
   "outputs": [],
   "source": []
  }
 ],
 "metadata": {
  "kernelspec": {
   "display_name": "Python 3",
   "language": "python",
   "name": "python3"
  },
  "language_info": {
   "codemirror_mode": {
    "name": "ipython",
    "version": 3
   },
   "file_extension": ".py",
   "mimetype": "text/x-python",
   "name": "python",
   "nbconvert_exporter": "python",
   "pygments_lexer": "ipython3",
   "version": "3.7.3"
  }
 },
 "nbformat": 4,
 "nbformat_minor": 2
}
