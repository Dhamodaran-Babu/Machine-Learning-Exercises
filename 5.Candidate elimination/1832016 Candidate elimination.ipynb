{
 "cells": [
  {
   "cell_type": "code",
   "execution_count": 1,
   "metadata": {},
   "outputs": [],
   "source": [
    "import pandas as pd\n",
    "import numpy as np"
   ]
  },
  {
   "cell_type": "code",
   "execution_count": 2,
   "metadata": {},
   "outputs": [
    {
     "data": {
      "text/html": [
       "<div>\n",
       "<style scoped>\n",
       "    .dataframe tbody tr th:only-of-type {\n",
       "        vertical-align: middle;\n",
       "    }\n",
       "\n",
       "    .dataframe tbody tr th {\n",
       "        vertical-align: top;\n",
       "    }\n",
       "\n",
       "    .dataframe thead th {\n",
       "        text-align: right;\n",
       "    }\n",
       "</style>\n",
       "<table border=\"1\" class=\"dataframe\">\n",
       "  <thead>\n",
       "    <tr style=\"text-align: right;\">\n",
       "      <th></th>\n",
       "      <th>Team</th>\n",
       "      <th>Batting</th>\n",
       "      <th>Over</th>\n",
       "      <th>Bowler</th>\n",
       "      <th>Run rate</th>\n",
       "      <th>Pitch</th>\n",
       "      <th>Stumping</th>\n",
       "    </tr>\n",
       "  </thead>\n",
       "  <tbody>\n",
       "    <tr>\n",
       "      <th>0</th>\n",
       "      <td>CSK</td>\n",
       "      <td>Second</td>\n",
       "      <td>Death</td>\n",
       "      <td>Spin</td>\n",
       "      <td>High</td>\n",
       "      <td>Green</td>\n",
       "      <td>Yes</td>\n",
       "    </tr>\n",
       "    <tr>\n",
       "      <th>1</th>\n",
       "      <td>IND</td>\n",
       "      <td>Second</td>\n",
       "      <td>Middle</td>\n",
       "      <td>Spin</td>\n",
       "      <td>High</td>\n",
       "      <td>Dry</td>\n",
       "      <td>Yes</td>\n",
       "    </tr>\n",
       "    <tr>\n",
       "      <th>2</th>\n",
       "      <td>IND</td>\n",
       "      <td>Second</td>\n",
       "      <td>Middle</td>\n",
       "      <td>Spin</td>\n",
       "      <td>Low</td>\n",
       "      <td>Dry</td>\n",
       "      <td>Yes</td>\n",
       "    </tr>\n",
       "    <tr>\n",
       "      <th>3</th>\n",
       "      <td>CSK</td>\n",
       "      <td>Second</td>\n",
       "      <td>Middle</td>\n",
       "      <td>Seam</td>\n",
       "      <td>Low</td>\n",
       "      <td>Green</td>\n",
       "      <td>No</td>\n",
       "    </tr>\n",
       "    <tr>\n",
       "      <th>4</th>\n",
       "      <td>IND</td>\n",
       "      <td>Second</td>\n",
       "      <td>Death</td>\n",
       "      <td>Spin</td>\n",
       "      <td>Low</td>\n",
       "      <td>Dry</td>\n",
       "      <td>Yes</td>\n",
       "    </tr>\n",
       "    <tr>\n",
       "      <th>5</th>\n",
       "      <td>CSK</td>\n",
       "      <td>Second</td>\n",
       "      <td>Death</td>\n",
       "      <td>Spin</td>\n",
       "      <td>High</td>\n",
       "      <td>Dry</td>\n",
       "      <td>Yes</td>\n",
       "    </tr>\n",
       "    <tr>\n",
       "      <th>6</th>\n",
       "      <td>IND</td>\n",
       "      <td>Second</td>\n",
       "      <td>Death</td>\n",
       "      <td>Spin</td>\n",
       "      <td>Low</td>\n",
       "      <td>Green</td>\n",
       "      <td>Yes</td>\n",
       "    </tr>\n",
       "    <tr>\n",
       "      <th>7</th>\n",
       "      <td>CSK</td>\n",
       "      <td>Second</td>\n",
       "      <td>Death</td>\n",
       "      <td>Spin</td>\n",
       "      <td>High</td>\n",
       "      <td>Dry</td>\n",
       "      <td>Yes</td>\n",
       "    </tr>\n",
       "    <tr>\n",
       "      <th>8</th>\n",
       "      <td>IND</td>\n",
       "      <td>Second</td>\n",
       "      <td>Middle</td>\n",
       "      <td>Seam</td>\n",
       "      <td>Low</td>\n",
       "      <td>Dry</td>\n",
       "      <td>No</td>\n",
       "    </tr>\n",
       "    <tr>\n",
       "      <th>9</th>\n",
       "      <td>IND</td>\n",
       "      <td>Second</td>\n",
       "      <td>Death</td>\n",
       "      <td>Spin</td>\n",
       "      <td>High</td>\n",
       "      <td>Green</td>\n",
       "      <td>Yes</td>\n",
       "    </tr>\n",
       "  </tbody>\n",
       "</table>\n",
       "</div>"
      ],
      "text/plain": [
       "  Team Batting    Over Bowler Run rate  Pitch Stumping\n",
       "0  CSK  Second   Death   Spin     High  Green      Yes\n",
       "1  IND  Second  Middle   Spin     High    Dry      Yes\n",
       "2  IND  Second  Middle   Spin      Low    Dry      Yes\n",
       "3  CSK  Second  Middle   Seam      Low  Green       No\n",
       "4  IND  Second   Death   Spin      Low    Dry      Yes\n",
       "5  CSK  Second   Death   Spin     High    Dry      Yes\n",
       "6  IND  Second   Death   Spin      Low  Green      Yes\n",
       "7  CSK  Second   Death   Spin     High    Dry      Yes\n",
       "8  IND  Second  Middle   Seam      Low    Dry       No\n",
       "9  IND  Second   Death   Spin     High  Green      Yes"
      ]
     },
     "execution_count": 2,
     "metadata": {},
     "output_type": "execute_result"
    }
   ],
   "source": [
    "dataset=pd.read_csv('Dhoni Last 10 Match Stumping History.csv')\n",
    "dataset"
   ]
  },
  {
   "cell_type": "code",
   "execution_count": 3,
   "metadata": {},
   "outputs": [
    {
     "name": "stdout",
     "output_type": "stream",
     "text": [
      "The Attributes are ['Team', 'Batting', 'Over', 'Bowler', 'Run rate', 'Pitch']\n",
      "The Label Class is Stumping\n"
     ]
    }
   ],
   "source": [
    "print(\"The Attributes are {}\".format(list(dataset.columns[:-1])))\n",
    "print(\"The Label Class is {}\".format(dataset.columns[-1]))\n",
    "attribute_classes=[]\n",
    "for i in range(len(dataset.columns[:-1])):\n",
    "    attribute_classes.append(list(dataset.iloc[:,i].unique()))"
   ]
  },
  {
   "cell_type": "code",
   "execution_count": 4,
   "metadata": {},
   "outputs": [],
   "source": [
    "def candidate_elimaination(data_samples):\n",
    "    label=data_samples.iloc[:,-1].values\n",
    "    data_samples=data_samples.iloc[:,:-1].values\n",
    "    s=['Pi']*(data_samples.shape[1])\n",
    "    g=[[\"?\" for i in range(len(s))] for i in range(len(s))]\n",
    "    for i, h in enumerate(data_samples):\n",
    "        if label[i] == \"Yes\":\n",
    "            if s[0]=='Pi':\n",
    "                s=h.flatten().tolist()\n",
    "                print(\"Initial Specific hypothesis boundary : \",s)\n",
    "                print(\"Intial general Hypothesis boundary : \",g)\n",
    "            for x in range(len(s)):\n",
    "                if h[x] != s[x]:\n",
    "                    s[x] = '?'\n",
    "                    g[x][x] = '?'\n",
    "        if label[i] == \"No\":\n",
    "            for x in range(len(s)):\n",
    "                if h[x] != s[x]:\n",
    "                    g[x][x] = s[x]\n",
    "                else:\n",
    "                    g[x][x] = '?'\n",
    "    indices = [i for i, val in enumerate(g) if val == ['?', '?', '?', '?', '?', '?']]\n",
    "    for i in indices:\n",
    "        g.remove(['?', '?', '?', '?', '?', '?'])\n",
    "    return s,g"
   ]
  },
  {
   "cell_type": "code",
   "execution_count": 5,
   "metadata": {},
   "outputs": [
    {
     "name": "stdout",
     "output_type": "stream",
     "text": [
      "Initial Specific hypothesis boundary :  ['CSK', 'Second', 'Death', 'Spin', 'High', 'Green']\n",
      "Intial general Hypothesis boundary :  [['?', '?', '?', '?', '?', '?'], ['?', '?', '?', '?', '?', '?'], ['?', '?', '?', '?', '?', '?'], ['?', '?', '?', '?', '?', '?'], ['?', '?', '?', '?', '?', '?'], ['?', '?', '?', '?', '?', '?']]\n",
      "\n",
      " \n",
      "Most Generalised Specific Hypothesis :  ['?', 'Second', '?', 'Spin', '?', '?']\n",
      "Most Specialised generic Hypothesis :  [['?', '?', '?', 'Spin', '?', '?']]\n"
     ]
    }
   ],
   "source": [
    "s,g=candidate_elimaination(dataset)\n",
    "print('\\n \\nMost Generalised Specific Hypothesis : ',s)\n",
    "print(\"Most Specialised generic Hypothesis : \",g)"
   ]
  },
  {
   "cell_type": "code",
   "execution_count": null,
   "metadata": {},
   "outputs": [],
   "source": []
  }
 ],
 "metadata": {
  "kernelspec": {
   "display_name": "Python 3",
   "language": "python",
   "name": "python3"
  },
  "language_info": {
   "codemirror_mode": {
    "name": "ipython",
    "version": 3
   },
   "file_extension": ".py",
   "mimetype": "text/x-python",
   "name": "python",
   "nbconvert_exporter": "python",
   "pygments_lexer": "ipython3",
   "version": "3.7.3"
  }
 },
 "nbformat": 4,
 "nbformat_minor": 2
}
