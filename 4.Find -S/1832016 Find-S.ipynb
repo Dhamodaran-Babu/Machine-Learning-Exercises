{
 "cells": [
  {
   "cell_type": "code",
   "execution_count": 1,
   "metadata": {},
   "outputs": [],
   "source": [
    "import pandas as pd\n",
    "import numpy as np"
   ]
  },
  {
   "cell_type": "code",
   "execution_count": 2,
   "metadata": {},
   "outputs": [
    {
     "data": {
      "text/html": [
       "<div>\n",
       "<style scoped>\n",
       "    .dataframe tbody tr th:only-of-type {\n",
       "        vertical-align: middle;\n",
       "    }\n",
       "\n",
       "    .dataframe tbody tr th {\n",
       "        vertical-align: top;\n",
       "    }\n",
       "\n",
       "    .dataframe thead th {\n",
       "        text-align: right;\n",
       "    }\n",
       "</style>\n",
       "<table border=\"1\" class=\"dataframe\">\n",
       "  <thead>\n",
       "    <tr style=\"text-align: right;\">\n",
       "      <th></th>\n",
       "      <th>Team</th>\n",
       "      <th>Batting</th>\n",
       "      <th>Over</th>\n",
       "      <th>Bowler</th>\n",
       "      <th>Run rate</th>\n",
       "      <th>Pitch</th>\n",
       "      <th>Six</th>\n",
       "    </tr>\n",
       "  </thead>\n",
       "  <tbody>\n",
       "    <tr>\n",
       "      <th>0</th>\n",
       "      <td>IND</td>\n",
       "      <td>First</td>\n",
       "      <td>Middle</td>\n",
       "      <td>Spin</td>\n",
       "      <td>High</td>\n",
       "      <td>Dry</td>\n",
       "      <td>No</td>\n",
       "    </tr>\n",
       "    <tr>\n",
       "      <th>1</th>\n",
       "      <td>CSK</td>\n",
       "      <td>Second</td>\n",
       "      <td>Death</td>\n",
       "      <td>Seam</td>\n",
       "      <td>High</td>\n",
       "      <td>Green</td>\n",
       "      <td>Yes</td>\n",
       "    </tr>\n",
       "    <tr>\n",
       "      <th>2</th>\n",
       "      <td>IND</td>\n",
       "      <td>First</td>\n",
       "      <td>Middle</td>\n",
       "      <td>Seam</td>\n",
       "      <td>Low</td>\n",
       "      <td>Dry</td>\n",
       "      <td>No</td>\n",
       "    </tr>\n",
       "    <tr>\n",
       "      <th>3</th>\n",
       "      <td>CSK</td>\n",
       "      <td>First</td>\n",
       "      <td>Middle</td>\n",
       "      <td>Spin</td>\n",
       "      <td>Low</td>\n",
       "      <td>Green</td>\n",
       "      <td>No</td>\n",
       "    </tr>\n",
       "    <tr>\n",
       "      <th>4</th>\n",
       "      <td>IND</td>\n",
       "      <td>Second</td>\n",
       "      <td>Death</td>\n",
       "      <td>Seam</td>\n",
       "      <td>Low</td>\n",
       "      <td>Dry</td>\n",
       "      <td>Yes</td>\n",
       "    </tr>\n",
       "    <tr>\n",
       "      <th>5</th>\n",
       "      <td>CSk</td>\n",
       "      <td>First</td>\n",
       "      <td>Death</td>\n",
       "      <td>Spin</td>\n",
       "      <td>High</td>\n",
       "      <td>Dry</td>\n",
       "      <td>Yes</td>\n",
       "    </tr>\n",
       "    <tr>\n",
       "      <th>6</th>\n",
       "      <td>IND</td>\n",
       "      <td>Second</td>\n",
       "      <td>Death</td>\n",
       "      <td>spin</td>\n",
       "      <td>Low</td>\n",
       "      <td>Green</td>\n",
       "      <td>Yes</td>\n",
       "    </tr>\n",
       "    <tr>\n",
       "      <th>7</th>\n",
       "      <td>CSk</td>\n",
       "      <td>First</td>\n",
       "      <td>Death</td>\n",
       "      <td>Seam</td>\n",
       "      <td>High</td>\n",
       "      <td>Dry</td>\n",
       "      <td>Yes</td>\n",
       "    </tr>\n",
       "    <tr>\n",
       "      <th>8</th>\n",
       "      <td>IND</td>\n",
       "      <td>First</td>\n",
       "      <td>Middle</td>\n",
       "      <td>Spin</td>\n",
       "      <td>Low</td>\n",
       "      <td>Dry</td>\n",
       "      <td>No</td>\n",
       "    </tr>\n",
       "    <tr>\n",
       "      <th>9</th>\n",
       "      <td>IND</td>\n",
       "      <td>Second</td>\n",
       "      <td>Death</td>\n",
       "      <td>Seam</td>\n",
       "      <td>High</td>\n",
       "      <td>Green</td>\n",
       "      <td>Yes</td>\n",
       "    </tr>\n",
       "  </tbody>\n",
       "</table>\n",
       "</div>"
      ],
      "text/plain": [
       "  Team Batting    Over Bowler Run rate  Pitch  Six\n",
       "0  IND   First  Middle   Spin     High    Dry   No\n",
       "1  CSK  Second   Death   Seam     High  Green  Yes\n",
       "2  IND   First  Middle   Seam      Low    Dry   No\n",
       "3  CSK   First  Middle   Spin      Low  Green   No\n",
       "4  IND  Second   Death   Seam      Low    Dry  Yes\n",
       "5  CSk   First   Death   Spin     High    Dry  Yes\n",
       "6  IND  Second   Death   spin      Low  Green  Yes\n",
       "7  CSk   First   Death   Seam     High    Dry  Yes\n",
       "8  IND   First  Middle   Spin      Low    Dry   No\n",
       "9  IND  Second   Death   Seam     High  Green  Yes"
      ]
     },
     "execution_count": 2,
     "metadata": {},
     "output_type": "execute_result"
    }
   ],
   "source": [
    "dataset=pd.read_csv('Dhoni Six records.csv')\n",
    "dataset"
   ]
  },
  {
   "cell_type": "code",
   "execution_count": 3,
   "metadata": {},
   "outputs": [
    {
     "name": "stdout",
     "output_type": "stream",
     "text": [
      "The attributes are ['Team', 'Batting', 'Over', 'Bowler', 'Run rate', 'Pitch']\n",
      "The Label Class is Six\n"
     ]
    }
   ],
   "source": [
    "print(\"The attributes are {}\".format(list(dataset.columns[:-1])))\n",
    "print(\"The Label Class is {}\".format(dataset.columns[-1]))"
   ]
  },
  {
   "cell_type": "code",
   "execution_count": 4,
   "metadata": {},
   "outputs": [],
   "source": [
    "def find_s(data):\n",
    "    s=np.empty(shape=(len(data.columns)-1),dtype=object)\n",
    "    data=data.values\n",
    "    for instance in range(data.shape[0]):\n",
    "        if data[instance,-1] == 'Yes':\n",
    "            if s[0] is None:\n",
    "                s=data[instance,:-1]\n",
    "            else:\n",
    "                for attribute in range(len(s)):\n",
    "                    if s[attribute] is not data[instance][attribute]:\n",
    "                        s[attribute]='?'\n",
    "    return s"
   ]
  },
  {
   "cell_type": "code",
   "execution_count": 5,
   "metadata": {},
   "outputs": [
    {
     "name": "stdout",
     "output_type": "stream",
     "text": [
      "The generalised Hypothesis is ['?' '?' 'Death' '?' '?' '?']\n"
     ]
    }
   ],
   "source": [
    "s=find_s(dataset)\n",
    "print(\"The generalised Hypothesis is {}\".format(s))"
   ]
  }
 ],
 "metadata": {
  "kernelspec": {
   "display_name": "Python 3",
   "language": "python",
   "name": "python3"
  },
  "language_info": {
   "codemirror_mode": {
    "name": "ipython",
    "version": 3
   },
   "file_extension": ".py",
   "mimetype": "text/x-python",
   "name": "python",
   "nbconvert_exporter": "python",
   "pygments_lexer": "ipython3",
   "version": "3.7.3"
  }
 },
 "nbformat": 4,
 "nbformat_minor": 2
}
